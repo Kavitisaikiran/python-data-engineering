{
 "cells": [
  {
   "cell_type": "code",
   "execution_count": 9,
   "id": "08bc4099-bfce-4cbf-9ee3-997caee78ed0",
   "metadata": {},
   "outputs": [
    {
     "name": "stdout",
     "output_type": "stream",
     "text": [
      "Requirement already satisfied: pandas in c:\\users\\lenovo\\appdata\\local\\programs\\python\\python313\\lib\\site-packages (2.2.3)\n",
      "Requirement already satisfied: numpy>=1.26.0 in c:\\users\\lenovo\\appdata\\local\\programs\\python\\python313\\lib\\site-packages (from pandas) (2.2.4)\n",
      "Requirement already satisfied: python-dateutil>=2.8.2 in c:\\users\\lenovo\\appdata\\local\\programs\\python\\python313\\lib\\site-packages (from pandas) (2.9.0.post0)\n",
      "Requirement already satisfied: pytz>=2020.1 in c:\\users\\lenovo\\appdata\\local\\programs\\python\\python313\\lib\\site-packages (from pandas) (2025.2)\n",
      "Requirement already satisfied: tzdata>=2022.7 in c:\\users\\lenovo\\appdata\\local\\programs\\python\\python313\\lib\\site-packages (from pandas) (2025.2)\n",
      "Requirement already satisfied: six>=1.5 in c:\\users\\lenovo\\appdata\\local\\programs\\python\\python313\\lib\\site-packages (from python-dateutil>=2.8.2->pandas) (1.17.0)\n",
      "Note: you may need to restart the kernel to use updated packages.\n"
     ]
    },
    {
     "name": "stderr",
     "output_type": "stream",
     "text": [
      "\n",
      "[notice] A new release of pip is available: 24.3.1 -> 25.0.1\n",
      "[notice] To update, run: python.exe -m pip install --upgrade pip\n"
     ]
    }
   ],
   "source": [
    "pip install pandas"
   ]
  },
  {
   "cell_type": "code",
   "execution_count": 11,
   "id": "ba42fc2c-f853-4c21-84df-ca7a24c8d581",
   "metadata": {},
   "outputs": [],
   "source": [
    "import pandas as pd"
   ]
  },
  {
   "cell_type": "code",
   "execution_count": 16,
   "id": "953e8adc-fdfb-4f57-9f9f-c91560c19df8",
   "metadata": {},
   "outputs": [],
   "source": [
    "df = pd.read_csv(\"Downloads/apple_products.csv\")"
   ]
  },
  {
   "cell_type": "code",
   "execution_count": 17,
   "id": "afb28956-ea95-4802-9674-e9572af39674",
   "metadata": {},
   "outputs": [
    {
     "data": {
      "text/html": [
       "<div>\n",
       "<style scoped>\n",
       "    .dataframe tbody tr th:only-of-type {\n",
       "        vertical-align: middle;\n",
       "    }\n",
       "\n",
       "    .dataframe tbody tr th {\n",
       "        vertical-align: top;\n",
       "    }\n",
       "\n",
       "    .dataframe thead th {\n",
       "        text-align: right;\n",
       "    }\n",
       "</style>\n",
       "<table border=\"1\" class=\"dataframe\">\n",
       "  <thead>\n",
       "    <tr style=\"text-align: right;\">\n",
       "      <th></th>\n",
       "      <th>Product Name</th>\n",
       "      <th>Product URL</th>\n",
       "      <th>Brand</th>\n",
       "      <th>Sale Price</th>\n",
       "      <th>Mrp</th>\n",
       "      <th>Discount Percentage</th>\n",
       "      <th>Number Of Ratings</th>\n",
       "      <th>Number Of Reviews</th>\n",
       "      <th>Upc</th>\n",
       "      <th>Star Rating</th>\n",
       "      <th>Ram</th>\n",
       "    </tr>\n",
       "  </thead>\n",
       "  <tbody>\n",
       "    <tr>\n",
       "      <th>0</th>\n",
       "      <td>APPLE iPhone 8 Plus (Gold, 64 GB)</td>\n",
       "      <td>https://www.flipkart.com/apple-iphone-8-plus-g...</td>\n",
       "      <td>Apple</td>\n",
       "      <td>49900</td>\n",
       "      <td>49900</td>\n",
       "      <td>0</td>\n",
       "      <td>3431</td>\n",
       "      <td>356</td>\n",
       "      <td>MOBEXRGV7EHHTGUH</td>\n",
       "      <td>4.6</td>\n",
       "      <td>2 GB</td>\n",
       "    </tr>\n",
       "    <tr>\n",
       "      <th>1</th>\n",
       "      <td>APPLE iPhone 8 Plus (Space Grey, 256 GB)</td>\n",
       "      <td>https://www.flipkart.com/apple-iphone-8-plus-s...</td>\n",
       "      <td>Apple</td>\n",
       "      <td>84900</td>\n",
       "      <td>84900</td>\n",
       "      <td>0</td>\n",
       "      <td>3431</td>\n",
       "      <td>356</td>\n",
       "      <td>MOBEXRGVAC6TJT4F</td>\n",
       "      <td>4.6</td>\n",
       "      <td>2 GB</td>\n",
       "    </tr>\n",
       "    <tr>\n",
       "      <th>2</th>\n",
       "      <td>APPLE iPhone 8 Plus (Silver, 256 GB)</td>\n",
       "      <td>https://www.flipkart.com/apple-iphone-8-plus-s...</td>\n",
       "      <td>Apple</td>\n",
       "      <td>84900</td>\n",
       "      <td>84900</td>\n",
       "      <td>0</td>\n",
       "      <td>3431</td>\n",
       "      <td>356</td>\n",
       "      <td>MOBEXRGVGETABXWZ</td>\n",
       "      <td>4.6</td>\n",
       "      <td>2 GB</td>\n",
       "    </tr>\n",
       "    <tr>\n",
       "      <th>3</th>\n",
       "      <td>APPLE iPhone 8 (Silver, 256 GB)</td>\n",
       "      <td>https://www.flipkart.com/apple-iphone-8-silver...</td>\n",
       "      <td>Apple</td>\n",
       "      <td>77000</td>\n",
       "      <td>77000</td>\n",
       "      <td>0</td>\n",
       "      <td>11202</td>\n",
       "      <td>794</td>\n",
       "      <td>MOBEXRGVMZWUHCBA</td>\n",
       "      <td>4.5</td>\n",
       "      <td>2 GB</td>\n",
       "    </tr>\n",
       "    <tr>\n",
       "      <th>4</th>\n",
       "      <td>APPLE iPhone 8 (Gold, 256 GB)</td>\n",
       "      <td>https://www.flipkart.com/apple-iphone-8-gold-2...</td>\n",
       "      <td>Apple</td>\n",
       "      <td>77000</td>\n",
       "      <td>77000</td>\n",
       "      <td>0</td>\n",
       "      <td>11202</td>\n",
       "      <td>794</td>\n",
       "      <td>MOBEXRGVPK7PFEJZ</td>\n",
       "      <td>4.5</td>\n",
       "      <td>2 GB</td>\n",
       "    </tr>\n",
       "  </tbody>\n",
       "</table>\n",
       "</div>"
      ],
      "text/plain": [
       "                               Product Name  \\\n",
       "0         APPLE iPhone 8 Plus (Gold, 64 GB)   \n",
       "1  APPLE iPhone 8 Plus (Space Grey, 256 GB)   \n",
       "2      APPLE iPhone 8 Plus (Silver, 256 GB)   \n",
       "3           APPLE iPhone 8 (Silver, 256 GB)   \n",
       "4             APPLE iPhone 8 (Gold, 256 GB)   \n",
       "\n",
       "                                         Product URL  Brand  Sale Price  \\\n",
       "0  https://www.flipkart.com/apple-iphone-8-plus-g...  Apple       49900   \n",
       "1  https://www.flipkart.com/apple-iphone-8-plus-s...  Apple       84900   \n",
       "2  https://www.flipkart.com/apple-iphone-8-plus-s...  Apple       84900   \n",
       "3  https://www.flipkart.com/apple-iphone-8-silver...  Apple       77000   \n",
       "4  https://www.flipkart.com/apple-iphone-8-gold-2...  Apple       77000   \n",
       "\n",
       "     Mrp  Discount Percentage  Number Of Ratings  Number Of Reviews  \\\n",
       "0  49900                    0               3431                356   \n",
       "1  84900                    0               3431                356   \n",
       "2  84900                    0               3431                356   \n",
       "3  77000                    0              11202                794   \n",
       "4  77000                    0              11202                794   \n",
       "\n",
       "                Upc  Star Rating   Ram  \n",
       "0  MOBEXRGV7EHHTGUH          4.6  2 GB  \n",
       "1  MOBEXRGVAC6TJT4F          4.6  2 GB  \n",
       "2  MOBEXRGVGETABXWZ          4.6  2 GB  \n",
       "3  MOBEXRGVMZWUHCBA          4.5  2 GB  \n",
       "4  MOBEXRGVPK7PFEJZ          4.5  2 GB  "
      ]
     },
     "execution_count": 17,
     "metadata": {},
     "output_type": "execute_result"
    }
   ],
   "source": [
    "df.head()"
   ]
  },
  {
   "cell_type": "code",
   "execution_count": 18,
   "id": "97f7cdee-0d1a-4f57-9b9d-11c02e20bd54",
   "metadata": {},
   "outputs": [
    {
     "ename": "TypeError",
     "evalue": "'int' object is not callable",
     "output_type": "error",
     "traceback": [
      "\u001b[31m---------------------------------------------------------------------------\u001b[39m",
      "\u001b[31mTypeError\u001b[39m                                 Traceback (most recent call last)",
      "\u001b[36mCell\u001b[39m\u001b[36m \u001b[39m\u001b[32mIn[18]\u001b[39m\u001b[32m, line 1\u001b[39m\n\u001b[32m----> \u001b[39m\u001b[32m1\u001b[39m \u001b[43mdf\u001b[49m\u001b[43m.\u001b[49m\u001b[43msize\u001b[49m\u001b[43m(\u001b[49m\u001b[43m)\u001b[49m\n",
      "\u001b[31mTypeError\u001b[39m: 'int' object is not callable"
     ]
    }
   ],
   "source": [
    "df.size()"
   ]
  },
  {
   "cell_type": "code",
   "execution_count": 19,
   "id": "72ae96d7-0414-4e8e-8693-ba1100d31b13",
   "metadata": {},
   "outputs": [
    {
     "data": {
      "text/plain": [
       "Product Name           62\n",
       "Product URL            62\n",
       "Brand                  62\n",
       "Sale Price             62\n",
       "Mrp                    62\n",
       "Discount Percentage    62\n",
       "Number Of Ratings      62\n",
       "Number Of Reviews      62\n",
       "Upc                    62\n",
       "Star Rating            62\n",
       "Ram                    62\n",
       "dtype: int64"
      ]
     },
     "execution_count": 19,
     "metadata": {},
     "output_type": "execute_result"
    }
   ],
   "source": [
    "df.count()"
   ]
  },
  {
   "cell_type": "code",
   "execution_count": 20,
   "id": "6a327d98-d99e-4b8b-bf7a-629a40bc8a5c",
   "metadata": {},
   "outputs": [
    {
     "data": {
      "text/plain": [
       "np.int64(140900)"
      ]
     },
     "execution_count": 20,
     "metadata": {},
     "output_type": "execute_result"
    }
   ],
   "source": [
    "df[\"Sale Price\"].max()"
   ]
  },
  {
   "cell_type": "code",
   "execution_count": 21,
   "id": "3384602c-3478-4b14-8e46-a6aba6d2c22f",
   "metadata": {},
   "outputs": [
    {
     "data": {
      "text/plain": [
       "np.int64(149900)"
      ]
     },
     "execution_count": 21,
     "metadata": {},
     "output_type": "execute_result"
    }
   ],
   "source": [
    "df[\"Mrp\"].max()"
   ]
  },
  {
   "cell_type": "code",
   "execution_count": 28,
   "id": "555a48b8-d41b-4af2-8040-378ba3fb05f8",
   "metadata": {},
   "outputs": [
    {
     "name": "stdout",
     "output_type": "stream",
     "text": [
      "149900\n"
     ]
    }
   ],
   "source": [
    "maxmrp =  int(df[\"Mrp\"].max()), print(maxmrp)"
   ]
  },
  {
   "cell_type": "code",
   "execution_count": 29,
   "id": "50cd6387-7bd1-4f68-a049-b96a71be7b08",
   "metadata": {},
   "outputs": [
    {
     "data": {
      "text/plain": [
       "0      True\n",
       "1     False\n",
       "2     False\n",
       "3     False\n",
       "4     False\n",
       "      ...  \n",
       "57     True\n",
       "58    False\n",
       "59    False\n",
       "60    False\n",
       "61    False\n",
       "Name: Mrp, Length: 62, dtype: bool"
      ]
     },
     "execution_count": 29,
     "metadata": {},
     "output_type": "execute_result"
    }
   ],
   "source": [
    "df[\"Mrp\"]<50000"
   ]
  },
  {
   "cell_type": "code",
   "execution_count": 31,
   "id": "2b414443-bc94-4dd5-8945-674f09340247",
   "metadata": {},
   "outputs": [
    {
     "data": {
      "text/html": [
       "<div>\n",
       "<style scoped>\n",
       "    .dataframe tbody tr th:only-of-type {\n",
       "        vertical-align: middle;\n",
       "    }\n",
       "\n",
       "    .dataframe tbody tr th {\n",
       "        vertical-align: top;\n",
       "    }\n",
       "\n",
       "    .dataframe thead th {\n",
       "        text-align: right;\n",
       "    }\n",
       "</style>\n",
       "<table border=\"1\" class=\"dataframe\">\n",
       "  <thead>\n",
       "    <tr style=\"text-align: right;\">\n",
       "      <th></th>\n",
       "      <th>Product Name</th>\n",
       "      <th>Product URL</th>\n",
       "      <th>Brand</th>\n",
       "      <th>Sale Price</th>\n",
       "      <th>Mrp</th>\n",
       "      <th>Discount Percentage</th>\n",
       "      <th>Number Of Ratings</th>\n",
       "      <th>Number Of Reviews</th>\n",
       "      <th>Upc</th>\n",
       "      <th>Star Rating</th>\n",
       "      <th>Ram</th>\n",
       "    </tr>\n",
       "  </thead>\n",
       "  <tbody>\n",
       "    <tr>\n",
       "      <th>0</th>\n",
       "      <td>APPLE iPhone 8 Plus (Gold, 64 GB)</td>\n",
       "      <td>https://www.flipkart.com/apple-iphone-8-plus-g...</td>\n",
       "      <td>Apple</td>\n",
       "      <td>49900</td>\n",
       "      <td>49900</td>\n",
       "      <td>0</td>\n",
       "      <td>3431</td>\n",
       "      <td>356</td>\n",
       "      <td>MOBEXRGV7EHHTGUH</td>\n",
       "      <td>4.6</td>\n",
       "      <td>2 GB</td>\n",
       "    </tr>\n",
       "    <tr>\n",
       "      <th>5</th>\n",
       "      <td>APPLE iPhone 8 Plus (Silver, 64 GB)</td>\n",
       "      <td>https://www.flipkart.com/apple-iphone-8-plus-s...</td>\n",
       "      <td>Apple</td>\n",
       "      <td>49900</td>\n",
       "      <td>49900</td>\n",
       "      <td>0</td>\n",
       "      <td>3431</td>\n",
       "      <td>356</td>\n",
       "      <td>MOBEXRGVQGYYP8FV</td>\n",
       "      <td>4.6</td>\n",
       "      <td>2 GB</td>\n",
       "    </tr>\n",
       "    <tr>\n",
       "      <th>6</th>\n",
       "      <td>APPLE iPhone 8 Plus (Space Grey, 64 GB)</td>\n",
       "      <td>https://www.flipkart.com/apple-iphone-8-plus-s...</td>\n",
       "      <td>Apple</td>\n",
       "      <td>49900</td>\n",
       "      <td>49900</td>\n",
       "      <td>0</td>\n",
       "      <td>3431</td>\n",
       "      <td>356</td>\n",
       "      <td>MOBEXRGVQKBREZP8</td>\n",
       "      <td>4.6</td>\n",
       "      <td>2 GB</td>\n",
       "    </tr>\n",
       "    <tr>\n",
       "      <th>10</th>\n",
       "      <td>Apple iPhone XR (Black, 64 GB) (Includes EarPo...</td>\n",
       "      <td>https://www.flipkart.com/apple-iphone-xr-black...</td>\n",
       "      <td>Apple</td>\n",
       "      <td>39999</td>\n",
       "      <td>47900</td>\n",
       "      <td>16</td>\n",
       "      <td>79512</td>\n",
       "      <td>6796</td>\n",
       "      <td>MOBF9Z7ZPHGV4GNH</td>\n",
       "      <td>4.6</td>\n",
       "      <td>4 GB</td>\n",
       "    </tr>\n",
       "    <tr>\n",
       "      <th>52</th>\n",
       "      <td>APPLE iPhone SE (White, 64 GB)</td>\n",
       "      <td>https://www.flipkart.com/apple-iphone-se-white...</td>\n",
       "      <td>Apple</td>\n",
       "      <td>29999</td>\n",
       "      <td>39900</td>\n",
       "      <td>24</td>\n",
       "      <td>95807</td>\n",
       "      <td>8154</td>\n",
       "      <td>MOBFWQ6BGWDVGF3E</td>\n",
       "      <td>4.5</td>\n",
       "      <td>2 GB</td>\n",
       "    </tr>\n",
       "    <tr>\n",
       "      <th>53</th>\n",
       "      <td>APPLE iPhone SE (Black, 128 GB)</td>\n",
       "      <td>https://www.flipkart.com/apple-iphone-se-black...</td>\n",
       "      <td>Apple</td>\n",
       "      <td>34999</td>\n",
       "      <td>44900</td>\n",
       "      <td>22</td>\n",
       "      <td>95909</td>\n",
       "      <td>8161</td>\n",
       "      <td>MOBFWQ6BHUEVZPXD</td>\n",
       "      <td>4.5</td>\n",
       "      <td>2 GB</td>\n",
       "    </tr>\n",
       "    <tr>\n",
       "      <th>54</th>\n",
       "      <td>APPLE iPhone SE (White, 128 GB)</td>\n",
       "      <td>https://www.flipkart.com/apple-iphone-se-white...</td>\n",
       "      <td>Apple</td>\n",
       "      <td>34999</td>\n",
       "      <td>44900</td>\n",
       "      <td>22</td>\n",
       "      <td>95807</td>\n",
       "      <td>8154</td>\n",
       "      <td>MOBFWQ6BJEHMUUZY</td>\n",
       "      <td>4.5</td>\n",
       "      <td>2 GB</td>\n",
       "    </tr>\n",
       "    <tr>\n",
       "      <th>55</th>\n",
       "      <td>APPLE iPhone SE (Red, 128 GB)</td>\n",
       "      <td>https://www.flipkart.com/apple-iphone-se-red-1...</td>\n",
       "      <td>Apple</td>\n",
       "      <td>34999</td>\n",
       "      <td>44900</td>\n",
       "      <td>22</td>\n",
       "      <td>95909</td>\n",
       "      <td>8161</td>\n",
       "      <td>MOBFWQ6BJTVFKPEJ</td>\n",
       "      <td>4.5</td>\n",
       "      <td>2 GB</td>\n",
       "    </tr>\n",
       "    <tr>\n",
       "      <th>57</th>\n",
       "      <td>APPLE iPhone SE (Black, 64 GB)</td>\n",
       "      <td>https://www.flipkart.com/apple-iphone-se-black...</td>\n",
       "      <td>Apple</td>\n",
       "      <td>29999</td>\n",
       "      <td>39900</td>\n",
       "      <td>24</td>\n",
       "      <td>95909</td>\n",
       "      <td>8161</td>\n",
       "      <td>MOBFWQ6BR3MK7AUG</td>\n",
       "      <td>4.5</td>\n",
       "      <td>4 GB</td>\n",
       "    </tr>\n",
       "  </tbody>\n",
       "</table>\n",
       "</div>"
      ],
      "text/plain": [
       "                                         Product Name  \\\n",
       "0                   APPLE iPhone 8 Plus (Gold, 64 GB)   \n",
       "5                 APPLE iPhone 8 Plus (Silver, 64 GB)   \n",
       "6             APPLE iPhone 8 Plus (Space Grey, 64 GB)   \n",
       "10  Apple iPhone XR (Black, 64 GB) (Includes EarPo...   \n",
       "52                     APPLE iPhone SE (White, 64 GB)   \n",
       "53                    APPLE iPhone SE (Black, 128 GB)   \n",
       "54                    APPLE iPhone SE (White, 128 GB)   \n",
       "55                      APPLE iPhone SE (Red, 128 GB)   \n",
       "57                     APPLE iPhone SE (Black, 64 GB)   \n",
       "\n",
       "                                          Product URL  Brand  Sale Price  \\\n",
       "0   https://www.flipkart.com/apple-iphone-8-plus-g...  Apple       49900   \n",
       "5   https://www.flipkart.com/apple-iphone-8-plus-s...  Apple       49900   \n",
       "6   https://www.flipkart.com/apple-iphone-8-plus-s...  Apple       49900   \n",
       "10  https://www.flipkart.com/apple-iphone-xr-black...  Apple       39999   \n",
       "52  https://www.flipkart.com/apple-iphone-se-white...  Apple       29999   \n",
       "53  https://www.flipkart.com/apple-iphone-se-black...  Apple       34999   \n",
       "54  https://www.flipkart.com/apple-iphone-se-white...  Apple       34999   \n",
       "55  https://www.flipkart.com/apple-iphone-se-red-1...  Apple       34999   \n",
       "57  https://www.flipkart.com/apple-iphone-se-black...  Apple       29999   \n",
       "\n",
       "      Mrp  Discount Percentage  Number Of Ratings  Number Of Reviews  \\\n",
       "0   49900                    0               3431                356   \n",
       "5   49900                    0               3431                356   \n",
       "6   49900                    0               3431                356   \n",
       "10  47900                   16              79512               6796   \n",
       "52  39900                   24              95807               8154   \n",
       "53  44900                   22              95909               8161   \n",
       "54  44900                   22              95807               8154   \n",
       "55  44900                   22              95909               8161   \n",
       "57  39900                   24              95909               8161   \n",
       "\n",
       "                 Upc  Star Rating   Ram  \n",
       "0   MOBEXRGV7EHHTGUH          4.6  2 GB  \n",
       "5   MOBEXRGVQGYYP8FV          4.6  2 GB  \n",
       "6   MOBEXRGVQKBREZP8          4.6  2 GB  \n",
       "10  MOBF9Z7ZPHGV4GNH          4.6  4 GB  \n",
       "52  MOBFWQ6BGWDVGF3E          4.5  2 GB  \n",
       "53  MOBFWQ6BHUEVZPXD          4.5  2 GB  \n",
       "54  MOBFWQ6BJEHMUUZY          4.5  2 GB  \n",
       "55  MOBFWQ6BJTVFKPEJ          4.5  2 GB  \n",
       "57  MOBFWQ6BR3MK7AUG          4.5  4 GB  "
      ]
     },
     "execution_count": 31,
     "metadata": {},
     "output_type": "execute_result"
    }
   ],
   "source": [
    "df[df[\"Mrp\"]<50000]"
   ]
  },
  {
   "cell_type": "code",
   "execution_count": 32,
   "id": "171c388d-ec84-4e43-8279-7d950780db3a",
   "metadata": {},
   "outputs": [
    {
     "ename": "KeyError",
     "evalue": "\"None of [Index([ 49900,  84900,  84900,  77000,  77000,  49900,  49900,  77000,  89900,\\n        52900,  47900,  52900,  52900,  52900, 131900, 117100, 131900, 117100,\\n       106600, 140300, 117100, 140300, 121300,  54900, 149900, 139900,  74900,\\n       129900,  69900,  84900, 119900, 139900, 129900,  74900,  74900,  84900,\\n        84900, 129900,  69900, 129900,  84900, 149900,  79900,  79900,  84900,\\n        69900, 119900, 129900, 139900, 139900,  59900,  59900,  39900,  44900,\\n        44900,  44900,  59900,  39900,  54900,  54900,  54900,  54900],\\n      dtype='int64')] are in the [columns]\"",
     "output_type": "error",
     "traceback": [
      "\u001b[31m---------------------------------------------------------------------------\u001b[39m",
      "\u001b[31mKeyError\u001b[39m                                  Traceback (most recent call last)",
      "\u001b[36mCell\u001b[39m\u001b[36m \u001b[39m\u001b[32mIn[32]\u001b[39m\u001b[32m, line 1\u001b[39m\n\u001b[32m----> \u001b[39m\u001b[32m1\u001b[39m \u001b[43mdf\u001b[49m\u001b[43m[\u001b[49m\u001b[43mdf\u001b[49m\u001b[43m[\u001b[49m\u001b[33;43m\"\u001b[39;49m\u001b[33;43mMrp\u001b[39;49m\u001b[33;43m\"\u001b[39;49m\u001b[43m]\u001b[49m\u001b[43m]\u001b[49m\n",
      "\u001b[36mFile \u001b[39m\u001b[32m~\\AppData\\Local\\Programs\\Python\\Python313\\Lib\\site-packages\\pandas\\core\\frame.py:4108\u001b[39m, in \u001b[36mDataFrame.__getitem__\u001b[39m\u001b[34m(self, key)\u001b[39m\n\u001b[32m   4106\u001b[39m     \u001b[38;5;28;01mif\u001b[39;00m is_iterator(key):\n\u001b[32m   4107\u001b[39m         key = \u001b[38;5;28mlist\u001b[39m(key)\n\u001b[32m-> \u001b[39m\u001b[32m4108\u001b[39m     indexer = \u001b[38;5;28;43mself\u001b[39;49m\u001b[43m.\u001b[49m\u001b[43mcolumns\u001b[49m\u001b[43m.\u001b[49m\u001b[43m_get_indexer_strict\u001b[49m\u001b[43m(\u001b[49m\u001b[43mkey\u001b[49m\u001b[43m,\u001b[49m\u001b[43m \u001b[49m\u001b[33;43m\"\u001b[39;49m\u001b[33;43mcolumns\u001b[39;49m\u001b[33;43m\"\u001b[39;49m\u001b[43m)\u001b[49m[\u001b[32m1\u001b[39m]\n\u001b[32m   4110\u001b[39m \u001b[38;5;66;03m# take() does not accept boolean indexers\u001b[39;00m\n\u001b[32m   4111\u001b[39m \u001b[38;5;28;01mif\u001b[39;00m \u001b[38;5;28mgetattr\u001b[39m(indexer, \u001b[33m\"\u001b[39m\u001b[33mdtype\u001b[39m\u001b[33m\"\u001b[39m, \u001b[38;5;28;01mNone\u001b[39;00m) == \u001b[38;5;28mbool\u001b[39m:\n",
      "\u001b[36mFile \u001b[39m\u001b[32m~\\AppData\\Local\\Programs\\Python\\Python313\\Lib\\site-packages\\pandas\\core\\indexes\\base.py:6200\u001b[39m, in \u001b[36mIndex._get_indexer_strict\u001b[39m\u001b[34m(self, key, axis_name)\u001b[39m\n\u001b[32m   6197\u001b[39m \u001b[38;5;28;01melse\u001b[39;00m:\n\u001b[32m   6198\u001b[39m     keyarr, indexer, new_indexer = \u001b[38;5;28mself\u001b[39m._reindex_non_unique(keyarr)\n\u001b[32m-> \u001b[39m\u001b[32m6200\u001b[39m \u001b[38;5;28;43mself\u001b[39;49m\u001b[43m.\u001b[49m\u001b[43m_raise_if_missing\u001b[49m\u001b[43m(\u001b[49m\u001b[43mkeyarr\u001b[49m\u001b[43m,\u001b[49m\u001b[43m \u001b[49m\u001b[43mindexer\u001b[49m\u001b[43m,\u001b[49m\u001b[43m \u001b[49m\u001b[43maxis_name\u001b[49m\u001b[43m)\u001b[49m\n\u001b[32m   6202\u001b[39m keyarr = \u001b[38;5;28mself\u001b[39m.take(indexer)\n\u001b[32m   6203\u001b[39m \u001b[38;5;28;01mif\u001b[39;00m \u001b[38;5;28misinstance\u001b[39m(key, Index):\n\u001b[32m   6204\u001b[39m     \u001b[38;5;66;03m# GH 42790 - Preserve name from an Index\u001b[39;00m\n",
      "\u001b[36mFile \u001b[39m\u001b[32m~\\AppData\\Local\\Programs\\Python\\Python313\\Lib\\site-packages\\pandas\\core\\indexes\\base.py:6249\u001b[39m, in \u001b[36mIndex._raise_if_missing\u001b[39m\u001b[34m(self, key, indexer, axis_name)\u001b[39m\n\u001b[32m   6247\u001b[39m \u001b[38;5;28;01mif\u001b[39;00m nmissing:\n\u001b[32m   6248\u001b[39m     \u001b[38;5;28;01mif\u001b[39;00m nmissing == \u001b[38;5;28mlen\u001b[39m(indexer):\n\u001b[32m-> \u001b[39m\u001b[32m6249\u001b[39m         \u001b[38;5;28;01mraise\u001b[39;00m \u001b[38;5;167;01mKeyError\u001b[39;00m(\u001b[33mf\u001b[39m\u001b[33m\"\u001b[39m\u001b[33mNone of [\u001b[39m\u001b[38;5;132;01m{\u001b[39;00mkey\u001b[38;5;132;01m}\u001b[39;00m\u001b[33m] are in the [\u001b[39m\u001b[38;5;132;01m{\u001b[39;00maxis_name\u001b[38;5;132;01m}\u001b[39;00m\u001b[33m]\u001b[39m\u001b[33m\"\u001b[39m)\n\u001b[32m   6251\u001b[39m     not_found = \u001b[38;5;28mlist\u001b[39m(ensure_index(key)[missing_mask.nonzero()[\u001b[32m0\u001b[39m]].unique())\n\u001b[32m   6252\u001b[39m     \u001b[38;5;28;01mraise\u001b[39;00m \u001b[38;5;167;01mKeyError\u001b[39;00m(\u001b[33mf\u001b[39m\u001b[33m\"\u001b[39m\u001b[38;5;132;01m{\u001b[39;00mnot_found\u001b[38;5;132;01m}\u001b[39;00m\u001b[33m not in index\u001b[39m\u001b[33m\"\u001b[39m)\n",
      "\u001b[31mKeyError\u001b[39m: \"None of [Index([ 49900,  84900,  84900,  77000,  77000,  49900,  49900,  77000,  89900,\\n        52900,  47900,  52900,  52900,  52900, 131900, 117100, 131900, 117100,\\n       106600, 140300, 117100, 140300, 121300,  54900, 149900, 139900,  74900,\\n       129900,  69900,  84900, 119900, 139900, 129900,  74900,  74900,  84900,\\n        84900, 129900,  69900, 129900,  84900, 149900,  79900,  79900,  84900,\\n        69900, 119900, 129900, 139900, 139900,  59900,  59900,  39900,  44900,\\n        44900,  44900,  59900,  39900,  54900,  54900,  54900,  54900],\\n      dtype='int64')] are in the [columns]\""
     ]
    }
   ],
   "source": [
    "df[df[\"Mrp\"]]"
   ]
  },
  {
   "cell_type": "code",
   "execution_count": 37,
   "id": "281eece1-0a99-4f76-bfe1-40010ee59bc1",
   "metadata": {},
   "outputs": [
    {
     "data": {
      "text/plain": [
       "pandas.core.series.Series"
      ]
     },
     "execution_count": 37,
     "metadata": {},
     "output_type": "execute_result"
    }
   ],
   "source": [
    "type(df[\"Product URL\"])"
   ]
  },
  {
   "cell_type": "code",
   "execution_count": 38,
   "id": "98012593-1a19-4f1b-89a4-7a403a13b92a",
   "metadata": {},
   "outputs": [],
   "source": [
    "## A particular column in a data set is called series, and the set of all the seriies is known as dataframe"
   ]
  },
  {
   "cell_type": "code",
   "execution_count": 42,
   "id": "9dcf2eb9-688b-4b88-96c2-bab77cbe8eea",
   "metadata": {},
   "outputs": [
    {
     "data": {
      "text/plain": [
       "'https://www.flipkart.com/apple-iphone-12-mini-white-64-gb/p/itmf3b16d1640898?pid=MOBFWBYZBH4CEC4C'"
      ]
     },
     "execution_count": 42,
     "metadata": {},
     "output_type": "execute_result"
    }
   ],
   "source": [
    "list(df[\"Product URL\"])[28]"
   ]
  },
  {
   "cell_type": "code",
   "execution_count": 46,
   "id": "af229531-e9d0-45e9-8918-18acd60add21",
   "metadata": {},
   "outputs": [
    {
     "data": {
      "text/plain": [
       "'HTTPS://WWW.FLIPKART.COM/APPLE-IPHONE-12-MINI-WHIT'"
      ]
     },
     "execution_count": 46,
     "metadata": {},
     "output_type": "execute_result"
    }
   ],
   "source": [
    "list(df[\"Product URL\"])[28][0:50].upper()"
   ]
  },
  {
   "cell_type": "code",
   "execution_count": 49,
   "id": "5e13da4d-ff97-4a97-86da-f4f47f59085f",
   "metadata": {},
   "outputs": [
    {
     "data": {
      "text/html": [
       "<div>\n",
       "<style scoped>\n",
       "    .dataframe tbody tr th:only-of-type {\n",
       "        vertical-align: middle;\n",
       "    }\n",
       "\n",
       "    .dataframe tbody tr th {\n",
       "        vertical-align: top;\n",
       "    }\n",
       "\n",
       "    .dataframe thead th {\n",
       "        text-align: right;\n",
       "    }\n",
       "</style>\n",
       "<table border=\"1\" class=\"dataframe\">\n",
       "  <thead>\n",
       "    <tr style=\"text-align: right;\">\n",
       "      <th></th>\n",
       "      <th>Product Name</th>\n",
       "      <th>Product URL</th>\n",
       "      <th>Brand</th>\n",
       "      <th>Sale Price</th>\n",
       "      <th>Mrp</th>\n",
       "      <th>Discount Percentage</th>\n",
       "      <th>Number Of Ratings</th>\n",
       "      <th>Number Of Reviews</th>\n",
       "      <th>Upc</th>\n",
       "      <th>Star Rating</th>\n",
       "      <th>Ram</th>\n",
       "    </tr>\n",
       "  </thead>\n",
       "  <tbody>\n",
       "    <tr>\n",
       "      <th>15</th>\n",
       "      <td>APPLE iPhone 11 Pro Max (Gold, 64 GB)</td>\n",
       "      <td>https://www.flipkart.com/apple-iphone-11-pro-m...</td>\n",
       "      <td>Apple</td>\n",
       "      <td>117100</td>\n",
       "      <td>117100</td>\n",
       "      <td>0</td>\n",
       "      <td>1078</td>\n",
       "      <td>101</td>\n",
       "      <td>MOBFKCTSAPAYNSGG</td>\n",
       "      <td>4.7</td>\n",
       "      <td>4 GB</td>\n",
       "    </tr>\n",
       "    <tr>\n",
       "      <th>20</th>\n",
       "      <td>APPLE iPhone 11 Pro Max (Midnight Green, 64 GB)</td>\n",
       "      <td>https://www.flipkart.com/apple-iphone-11-pro-m...</td>\n",
       "      <td>Apple</td>\n",
       "      <td>117100</td>\n",
       "      <td>117100</td>\n",
       "      <td>0</td>\n",
       "      <td>1078</td>\n",
       "      <td>101</td>\n",
       "      <td>MOBFKCTSRYPAQNYT</td>\n",
       "      <td>4.7</td>\n",
       "      <td>4 GB</td>\n",
       "    </tr>\n",
       "    <tr>\n",
       "      <th>17</th>\n",
       "      <td>APPLE iPhone 11 Pro Max (Space Grey, 64 GB)</td>\n",
       "      <td>https://www.flipkart.com/apple-iphone-11-pro-m...</td>\n",
       "      <td>Apple</td>\n",
       "      <td>117100</td>\n",
       "      <td>117100</td>\n",
       "      <td>0</td>\n",
       "      <td>1078</td>\n",
       "      <td>101</td>\n",
       "      <td>MOBFKCTSKDMKCGQS</td>\n",
       "      <td>4.7</td>\n",
       "      <td>4 GB</td>\n",
       "    </tr>\n",
       "    <tr>\n",
       "      <th>16</th>\n",
       "      <td>APPLE iPhone 11 Pro Max (Midnight Green, 256 GB)</td>\n",
       "      <td>https://www.flipkart.com/apple-iphone-11-pro-m...</td>\n",
       "      <td>Apple</td>\n",
       "      <td>131900</td>\n",
       "      <td>131900</td>\n",
       "      <td>0</td>\n",
       "      <td>1078</td>\n",
       "      <td>101</td>\n",
       "      <td>MOBFKCTSCAAKGQV7</td>\n",
       "      <td>4.7</td>\n",
       "      <td>4 GB</td>\n",
       "    </tr>\n",
       "    <tr>\n",
       "      <th>14</th>\n",
       "      <td>APPLE iPhone 11 Pro Max (Gold, 256 GB)</td>\n",
       "      <td>https://www.flipkart.com/apple-iphone-11-pro-m...</td>\n",
       "      <td>Apple</td>\n",
       "      <td>131900</td>\n",
       "      <td>131900</td>\n",
       "      <td>0</td>\n",
       "      <td>1078</td>\n",
       "      <td>101</td>\n",
       "      <td>MOBFKCTS7HCHSPFH</td>\n",
       "      <td>4.7</td>\n",
       "      <td>4 GB</td>\n",
       "    </tr>\n",
       "    <tr>\n",
       "      <th>...</th>\n",
       "      <td>...</td>\n",
       "      <td>...</td>\n",
       "      <td>...</td>\n",
       "      <td>...</td>\n",
       "      <td>...</td>\n",
       "      <td>...</td>\n",
       "      <td>...</td>\n",
       "      <td>...</td>\n",
       "      <td>...</td>\n",
       "      <td>...</td>\n",
       "      <td>...</td>\n",
       "    </tr>\n",
       "    <tr>\n",
       "      <th>52</th>\n",
       "      <td>APPLE iPhone SE (White, 64 GB)</td>\n",
       "      <td>https://www.flipkart.com/apple-iphone-se-white...</td>\n",
       "      <td>Apple</td>\n",
       "      <td>29999</td>\n",
       "      <td>39900</td>\n",
       "      <td>24</td>\n",
       "      <td>95807</td>\n",
       "      <td>8154</td>\n",
       "      <td>MOBFWQ6BGWDVGF3E</td>\n",
       "      <td>4.5</td>\n",
       "      <td>2 GB</td>\n",
       "    </tr>\n",
       "    <tr>\n",
       "      <th>53</th>\n",
       "      <td>APPLE iPhone SE (Black, 128 GB)</td>\n",
       "      <td>https://www.flipkart.com/apple-iphone-se-black...</td>\n",
       "      <td>Apple</td>\n",
       "      <td>34999</td>\n",
       "      <td>44900</td>\n",
       "      <td>22</td>\n",
       "      <td>95909</td>\n",
       "      <td>8161</td>\n",
       "      <td>MOBFWQ6BHUEVZPXD</td>\n",
       "      <td>4.5</td>\n",
       "      <td>2 GB</td>\n",
       "    </tr>\n",
       "    <tr>\n",
       "      <th>57</th>\n",
       "      <td>APPLE iPhone SE (Black, 64 GB)</td>\n",
       "      <td>https://www.flipkart.com/apple-iphone-se-black...</td>\n",
       "      <td>Apple</td>\n",
       "      <td>29999</td>\n",
       "      <td>39900</td>\n",
       "      <td>24</td>\n",
       "      <td>95909</td>\n",
       "      <td>8161</td>\n",
       "      <td>MOBFWQ6BR3MK7AUG</td>\n",
       "      <td>4.5</td>\n",
       "      <td>4 GB</td>\n",
       "    </tr>\n",
       "    <tr>\n",
       "      <th>54</th>\n",
       "      <td>APPLE iPhone SE (White, 128 GB)</td>\n",
       "      <td>https://www.flipkart.com/apple-iphone-se-white...</td>\n",
       "      <td>Apple</td>\n",
       "      <td>34999</td>\n",
       "      <td>44900</td>\n",
       "      <td>22</td>\n",
       "      <td>95807</td>\n",
       "      <td>8154</td>\n",
       "      <td>MOBFWQ6BJEHMUUZY</td>\n",
       "      <td>4.5</td>\n",
       "      <td>2 GB</td>\n",
       "    </tr>\n",
       "    <tr>\n",
       "      <th>55</th>\n",
       "      <td>APPLE iPhone SE (Red, 128 GB)</td>\n",
       "      <td>https://www.flipkart.com/apple-iphone-se-red-1...</td>\n",
       "      <td>Apple</td>\n",
       "      <td>34999</td>\n",
       "      <td>44900</td>\n",
       "      <td>22</td>\n",
       "      <td>95909</td>\n",
       "      <td>8161</td>\n",
       "      <td>MOBFWQ6BJTVFKPEJ</td>\n",
       "      <td>4.5</td>\n",
       "      <td>2 GB</td>\n",
       "    </tr>\n",
       "  </tbody>\n",
       "</table>\n",
       "<p>62 rows × 11 columns</p>\n",
       "</div>"
      ],
      "text/plain": [
       "                                        Product Name  \\\n",
       "15             APPLE iPhone 11 Pro Max (Gold, 64 GB)   \n",
       "20   APPLE iPhone 11 Pro Max (Midnight Green, 64 GB)   \n",
       "17       APPLE iPhone 11 Pro Max (Space Grey, 64 GB)   \n",
       "16  APPLE iPhone 11 Pro Max (Midnight Green, 256 GB)   \n",
       "14            APPLE iPhone 11 Pro Max (Gold, 256 GB)   \n",
       "..                                               ...   \n",
       "52                    APPLE iPhone SE (White, 64 GB)   \n",
       "53                   APPLE iPhone SE (Black, 128 GB)   \n",
       "57                    APPLE iPhone SE (Black, 64 GB)   \n",
       "54                   APPLE iPhone SE (White, 128 GB)   \n",
       "55                     APPLE iPhone SE (Red, 128 GB)   \n",
       "\n",
       "                                          Product URL  Brand  Sale Price  \\\n",
       "15  https://www.flipkart.com/apple-iphone-11-pro-m...  Apple      117100   \n",
       "20  https://www.flipkart.com/apple-iphone-11-pro-m...  Apple      117100   \n",
       "17  https://www.flipkart.com/apple-iphone-11-pro-m...  Apple      117100   \n",
       "16  https://www.flipkart.com/apple-iphone-11-pro-m...  Apple      131900   \n",
       "14  https://www.flipkart.com/apple-iphone-11-pro-m...  Apple      131900   \n",
       "..                                                ...    ...         ...   \n",
       "52  https://www.flipkart.com/apple-iphone-se-white...  Apple       29999   \n",
       "53  https://www.flipkart.com/apple-iphone-se-black...  Apple       34999   \n",
       "57  https://www.flipkart.com/apple-iphone-se-black...  Apple       29999   \n",
       "54  https://www.flipkart.com/apple-iphone-se-white...  Apple       34999   \n",
       "55  https://www.flipkart.com/apple-iphone-se-red-1...  Apple       34999   \n",
       "\n",
       "       Mrp  Discount Percentage  Number Of Ratings  Number Of Reviews  \\\n",
       "15  117100                    0               1078                101   \n",
       "20  117100                    0               1078                101   \n",
       "17  117100                    0               1078                101   \n",
       "16  131900                    0               1078                101   \n",
       "14  131900                    0               1078                101   \n",
       "..     ...                  ...                ...                ...   \n",
       "52   39900                   24              95807               8154   \n",
       "53   44900                   22              95909               8161   \n",
       "57   39900                   24              95909               8161   \n",
       "54   44900                   22              95807               8154   \n",
       "55   44900                   22              95909               8161   \n",
       "\n",
       "                 Upc  Star Rating   Ram  \n",
       "15  MOBFKCTSAPAYNSGG          4.7  4 GB  \n",
       "20  MOBFKCTSRYPAQNYT          4.7  4 GB  \n",
       "17  MOBFKCTSKDMKCGQS          4.7  4 GB  \n",
       "16  MOBFKCTSCAAKGQV7          4.7  4 GB  \n",
       "14  MOBFKCTS7HCHSPFH          4.7  4 GB  \n",
       "..               ...          ...   ...  \n",
       "52  MOBFWQ6BGWDVGF3E          4.5  2 GB  \n",
       "53  MOBFWQ6BHUEVZPXD          4.5  2 GB  \n",
       "57  MOBFWQ6BR3MK7AUG          4.5  4 GB  \n",
       "54  MOBFWQ6BJEHMUUZY          4.5  2 GB  \n",
       "55  MOBFWQ6BJTVFKPEJ          4.5  2 GB  \n",
       "\n",
       "[62 rows x 11 columns]"
      ]
     },
     "execution_count": 49,
     "metadata": {},
     "output_type": "execute_result"
    }
   ],
   "source": [
    "df.sort_values(by=[\"Star Rating\"], ascending = False)"
   ]
  },
  {
   "cell_type": "code",
   "execution_count": 50,
   "id": "decac97b-4671-4a33-a7b0-07181b760873",
   "metadata": {},
   "outputs": [],
   "source": [
    "# Above Method helps sorting the dataframe by specific column  , this gives us understanidng of data (Product with best review/ rating as feedback to business)"
   ]
  },
  {
   "cell_type": "code",
   "execution_count": null,
   "id": "d005bd6b-d382-4111-a2c7-d1c2edc128a2",
   "metadata": {},
   "outputs": [],
   "source": []
  }
 ],
 "metadata": {
  "kernelspec": {
   "display_name": "Python 3 (ipykernel)",
   "language": "python",
   "name": "python3"
  },
  "language_info": {
   "codemirror_mode": {
    "name": "ipython",
    "version": 3
   },
   "file_extension": ".py",
   "mimetype": "text/x-python",
   "name": "python",
   "nbconvert_exporter": "python",
   "pygments_lexer": "ipython3",
   "version": "3.13.1"
  }
 },
 "nbformat": 4,
 "nbformat_minor": 5
}
